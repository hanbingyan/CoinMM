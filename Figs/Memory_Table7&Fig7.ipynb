{
 "cells": [
  {
   "cell_type": "code",
   "execution_count": 1,
   "metadata": {},
   "outputs": [],
   "source": [
    "import numpy as np\n",
    "import matplotlib.pyplot as plt\n",
    "import seaborn as sns\n",
    "import pickle\n",
    "import pandas as pd"
   ]
  },
  {
   "cell_type": "code",
   "execution_count": 2,
   "metadata": {},
   "outputs": [],
   "source": [
    "with open('nomem_longsighted_0.01/act.pickle', 'rb') as fp:\n",
    "    nm_act = pickle.load(fp)\n",
    "\n",
    "with open('nomem_longsighted_0.01/order.pickle', 'rb') as fp:\n",
    "    nm_order = pickle.load(fp)\n",
    "\n",
    "with open('nomem_longsighted_0.01/reward.pickle', 'rb') as fp:\n",
    "    nm_reward = pickle.load(fp)"
   ]
  },
  {
   "cell_type": "code",
   "execution_count": 3,
   "metadata": {},
   "outputs": [],
   "source": [
    "with open('mem_longsighted_0.01/state.pickle', 'rb') as fp:\n",
    "    state = pickle.load(fp)\n",
    "\n",
    "with open('mem_longsighted_0.01/order.pickle', 'rb') as fp:\n",
    "    order = pickle.load(fp)\n",
    "\n",
    "with open('mem_longsighted_0.01/reward.pickle', 'rb') as fp:\n",
    "    reward = pickle.load(fp)"
   ]
  },
  {
   "cell_type": "code",
   "execution_count": 4,
   "metadata": {},
   "outputs": [],
   "source": [
    "window = 1000\n",
    "tick_num = 4\n",
    "n_ins = 10\n",
    "n_agent = 2\n",
    "act_sum = np.zeros((n_ins, window, n_agent))\n",
    "order_sum = np.zeros((n_ins, window))\n",
    "reward_sum = np.zeros((n_ins, window, n_agent))\n",
    "\n",
    "for k in range(n_ins):\n",
    "    act_sum[k, :, :] = np.array(nm_act[k])[-window:, :]\n",
    "    order_sum[k, :] = np.array(nm_order[k])[-window:]\n",
    "    reward_sum[k, :, :] = np.array(nm_reward[k])[-window:, :]"
   ]
  },
  {
   "cell_type": "code",
   "execution_count": 5,
   "metadata": {},
   "outputs": [
    {
     "data": {
      "text/plain": [
       "(0.09295333333333333, 0.09735557702452273)"
      ]
     },
     "execution_count": 5,
     "metadata": {},
     "output_type": "execute_result"
    }
   ],
   "source": [
    "reward_sum.mean(), reward_sum.std()"
   ]
  },
  {
   "cell_type": "code",
   "execution_count": 6,
   "metadata": {},
   "outputs": [
    {
     "data": {
      "text/plain": [
       "(1.3546, 0.6645741794562892)"
      ]
     },
     "execution_count": 6,
     "metadata": {},
     "output_type": "execute_result"
    }
   ],
   "source": [
    "order_sum.mean(), order_sum.std()"
   ]
  },
  {
   "cell_type": "code",
   "execution_count": 7,
   "metadata": {},
   "outputs": [
    {
     "data": {
      "text/plain": [
       "(5.2, 4.106093033529563)"
      ]
     },
     "execution_count": 7,
     "metadata": {},
     "output_type": "execute_result"
    }
   ],
   "source": [
    "act_sum.mean(), act_sum.std()"
   ]
  },
  {
   "cell_type": "code",
   "execution_count": 8,
   "metadata": {},
   "outputs": [],
   "source": [
    "n_idx, n_val = np.unique(act_sum, return_counts=True)\n",
    "n_freq = np.zeros(16)\n",
    "n_freq[n_idx.astype(int)] = n_val\n",
    "n_freq = n_freq/n_freq.sum() "
   ]
  },
  {
   "cell_type": "code",
   "execution_count": null,
   "metadata": {},
   "outputs": [],
   "source": []
  },
  {
   "cell_type": "code",
   "execution_count": 9,
   "metadata": {},
   "outputs": [],
   "source": [
    "s_act = np.zeros((n_ins, window, n_agent))\n",
    "s_order = np.zeros((n_ins, window))\n",
    "s_reward = np.zeros((n_ins, window, n_agent))\n",
    "\n",
    "for k in range(n_ins):\n",
    "    s_act[k, :, :] = np.array(state[k])[-window:, :]\n",
    "    s_order[k, :] = np.array(order[k])[-window:]\n",
    "    s_reward[k, :, :] = np.array(reward[k])[-window:, :]"
   ]
  },
  {
   "cell_type": "code",
   "execution_count": 10,
   "metadata": {},
   "outputs": [
    {
     "data": {
      "text/plain": [
       "(0.11227833333333333, 0.1192172073593219)"
      ]
     },
     "execution_count": 10,
     "metadata": {},
     "output_type": "execute_result"
    }
   ],
   "source": [
    "s_reward.mean(), s_reward.std()"
   ]
  },
  {
   "cell_type": "code",
   "execution_count": 11,
   "metadata": {},
   "outputs": [
    {
     "data": {
      "text/plain": [
       "(1.299, 0.6767562338094861)"
      ]
     },
     "execution_count": 11,
     "metadata": {},
     "output_type": "execute_result"
    }
   ],
   "source": [
    "s_order.mean(), s_order.std()"
   ]
  },
  {
   "cell_type": "code",
   "execution_count": null,
   "metadata": {},
   "outputs": [],
   "source": []
  },
  {
   "cell_type": "code",
   "execution_count": 12,
   "metadata": {},
   "outputs": [],
   "source": [
    "s_idx, s_val = np.unique(s_act, return_counts=True)\n",
    "s_freq = np.zeros(16)\n",
    "s_freq[s_idx.astype(int)] = s_val\n",
    "s_freq = s_freq/s_freq.sum()"
   ]
  },
  {
   "cell_type": "code",
   "execution_count": 13,
   "metadata": {},
   "outputs": [
    {
     "data": {
      "image/png": "[encoded data removed]",
      "text/plain": [
       "<Figure size 432x288 with 1 Axes>"
      ]
     },
     "metadata": {
      "needs_background": "light"
     },
     "output_type": "display_data"
    }
   ],
   "source": [
    "labels = ['1', '2', '3', '4', '5', '6', '7', '8', '9', '10', '11', '12', '13', '14', '15', '16']\n",
    "\n",
    "x = np.arange(len(labels))  # the label locations\n",
    "width = 0.3  # the width of the bars\n",
    "\n",
    "fig, ax = plt.subplots()\n",
    "ax.tick_params(axis = 'both', which = 'major', labelsize = 14)\n",
    "rects1 = ax.bar(x - width/2, n_freq, width, label='Stateless')\n",
    "rects2 = ax.bar(x + width/2, s_freq, width, label='Memory')\n",
    "\n",
    "# Add some text for labels, title and custom x-axis tick labels, etc.\n",
    "ax.set_ylabel('Frequency', fontsize=14)\n",
    "ax.set_xlabel('Bid/ask actions', fontsize=14)\n",
    "ax.set_xticks(x, labels)\n",
    "# ax.set_yticks(fontsize=14)\n",
    "ax.legend(loc='best', fontsize=14)\n",
    "\n",
    "# ax.bar_label(rects1, padding=3)\n",
    "# ax.bar_label(rects2, padding=3)\n",
    "\n",
    "fig.tight_layout()\n",
    "\n",
    "# plt.show()\n",
    "plt.savefig('mem.pdf', format='pdf', dpi=1000, bbox_inches='tight', pad_inches=0.1)"
   ]
  },
  {
   "cell_type": "code",
   "execution_count": null,
   "metadata": {},
   "outputs": [],
   "source": []
  }
 ],
 "metadata": {
  "kernelspec": {
   "display_name": "Python 3",
   "language": "python",
   "name": "python3"
  },
  "language_info": {
   "codemirror_mode": {
    "name": "ipython",
    "version": 3
   },
   "file_extension": ".py",
   "mimetype": "text/x-python",
   "name": "python",
   "nbconvert_exporter": "python",
   "pygments_lexer": "ipython3",
   "version": "3.7.2"
  }
 },
 "nbformat": 4,
 "nbformat_minor": 2
}
